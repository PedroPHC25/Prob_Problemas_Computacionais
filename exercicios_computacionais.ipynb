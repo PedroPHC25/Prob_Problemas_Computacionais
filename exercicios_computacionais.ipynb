{
 "cells": [
  {
   "cell_type": "markdown",
   "metadata": {},
   "source": [
    "# Exercício 1"
   ]
  },
  {
   "cell_type": "code",
   "execution_count": 1,
   "metadata": {},
   "outputs": [
    {
     "name": "stdout",
     "output_type": "stream",
     "text": [
      "Proporção de acertos:  0.784086\n",
      "Quádruplo:  3.136344\n"
     ]
    }
   ],
   "source": [
    "import math\n",
    "import random\n",
    "\n",
    "# Tamanho do lado do quadrado\n",
    "l = 1000\n",
    "# Centro do quadrado\n",
    "centro = (l/2, l/2)\n",
    "# Número de tiros\n",
    "n = 1000000\n",
    "\n",
    "# Função para calcular a distância euclidiana entre dois pontos\n",
    "def euclidian_distance(ponto1, ponto2):\n",
    "    distance = math.sqrt((ponto1[0] - ponto2[0])**2 + (ponto1[1] - ponto2[1])**2)\n",
    "    return distance\n",
    "\n",
    "# Número de tiros bem-sucedidos\n",
    "bem_sucedidos = 0\n",
    "\n",
    "# Cria n tiros aleatórios\n",
    "for i in range(n):\n",
    "    x_tiro = random.randint(0, l)\n",
    "    y_tiro = random.randint(0, l)\n",
    "    tiro = (x_tiro, y_tiro)\n",
    "\n",
    "    # Checa se ele foi bem-sucedido\n",
    "    if euclidian_distance(centro, tiro) < l/2:\n",
    "        bem_sucedidos += 1\n",
    "\n",
    "# Proporção de tiros bem-sucedidos\n",
    "proporção = bem_sucedidos/n\n",
    "\n",
    "print(\"Proporção de acertos: \", proporção)\n",
    "print(\"Quádruplo: \", proporção*4)"
   ]
  },
  {
   "cell_type": "markdown",
   "metadata": {},
   "source": [
    "O valor se aproxima de $\\pi$/4. Essa é a razão entre as áreas do círculo e do quadrado:\n",
    "\n",
    "$$ \\frac{\\pi\\cdot\\left(\\dfrac{l}{2}\\right)^2}{l^2} = \\frac{\\pi\\cdot \\dfrac{l^2}{4}}{l^2} = \\frac{\\pi l^2}{4l^2} = \\frac{\\pi}{4}"
   ]
  },
  {
   "cell_type": "markdown",
   "metadata": {},
   "source": [
    "# Exercício 2"
   ]
  },
  {
   "cell_type": "code",
   "execution_count": 18,
   "metadata": {},
   "outputs": [
    {
     "name": "stdout",
     "output_type": "stream",
     "text": [
      "Mantendo a porta: 0.332735 de chance.\n"
     ]
    }
   ],
   "source": [
    "# Número de repetições\n",
    "n = 1000000\n",
    "\n",
    "# Número de vitórias mantendo a porta\n",
    "vitorias_mantendo = 0\n",
    "\n",
    "for i in range(n):\n",
    "    # Escolhendo sempre a porta 1 sem perda de generalidade\n",
    "    porta_escolhida = 1\n",
    "    # Setando a porta vencedora aleatoriamente\n",
    "    porta_vencedora = random.randint(1, 3)\n",
    "\n",
    "    # Só ganho se escolher a porta vencedora\n",
    "    if porta_escolhida == porta_vencedora:\n",
    "        vitorias_mantendo += 1\n",
    "\n",
    "# Proporção de vitórias\n",
    "proporção_mantendo = vitorias_mantendo/n\n",
    "\n",
    "print(f\"Mantendo a porta: {proporção_mantendo} de chance.\")"
   ]
  },
  {
   "cell_type": "code",
   "execution_count": 16,
   "metadata": {},
   "outputs": [
    {
     "name": "stdout",
     "output_type": "stream",
     "text": [
      "Trocando a porta: 0.66604 de chance.\n"
     ]
    }
   ],
   "source": [
    "# Número de repetições\n",
    "n = 1000000\n",
    "\n",
    "# Número de vitórias trocando de porta\n",
    "vitorias_trocando = 0\n",
    "\n",
    "for i in range(n):\n",
    "    # Lista com as portas ainda não abertas\n",
    "    portas = [1, 2, 3]\n",
    "    # Lista com as portas que podem ser abertas\n",
    "    portas_mostráveis = []\n",
    "\n",
    "    # Escolhendo sempre a porta 1 sem perda de generalidade\n",
    "    porta_escolhida = 1\n",
    "    # Setando a porta vencedora aleatoriamente\n",
    "    porta_vencedora = random.randint(1, 3)\n",
    "\n",
    "    # Vendo quais portas podem ser abertas (não pode ser a escolhida e nem a vencedora)\n",
    "    for porta in portas:\n",
    "        if porta != porta_escolhida and porta != porta_vencedora:\n",
    "            portas_mostráveis.append(porta)\n",
    "    \n",
    "    # Abrindo uma das portas possíveis\n",
    "    portas.remove(random.choice(portas_mostráveis))\n",
    "\n",
    "    # Trocando de porta\n",
    "    for porta in portas:\n",
    "        if porta != porta_escolhida:\n",
    "            porta_escolhida = porta\n",
    "\n",
    "    # Vendo que ganhou\n",
    "    if porta_escolhida == porta_vencedora:\n",
    "        vitorias_trocando += 1\n",
    "\n",
    "# Proporção de vitórias\n",
    "proporção_trocando = vitorias_trocando/n\n",
    "\n",
    "print(f\"Trocando a porta: {proporção_trocando} de chance.\")"
   ]
  }
 ],
 "metadata": {
  "kernelspec": {
   "display_name": "Python 3",
   "language": "python",
   "name": "python3"
  },
  "language_info": {
   "codemirror_mode": {
    "name": "ipython",
    "version": 3
   },
   "file_extension": ".py",
   "mimetype": "text/x-python",
   "name": "python",
   "nbconvert_exporter": "python",
   "pygments_lexer": "ipython3",
   "version": "3.10.10"
  }
 },
 "nbformat": 4,
 "nbformat_minor": 2
}
