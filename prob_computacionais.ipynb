{
 "cells": [
  {
   "cell_type": "markdown",
   "metadata": {},
   "source": [
    "# Exercício 3\n",
    "\n",
    "## Item a)\n",
    "\n",
    "Essa expressão pode ser vista como a representação binária de um número no intervalo $[0, 1]$. Assim, podemos encontrar a $CDF$ dessa VA com base na representação numérica binária.\n",
    "\n",
    "Seja $x = (x_1, x_2, x_3, ...)$ um número na base $2$, com $x_i \\in \\{0, 1\\} \\ \\forall \\ i$. Agora, um outro número na base $2$ será maior que $x$ se seu primeiro algarismo for maior que o primeiro algarismo de $x$ ou se o primeiro for igual e o segundo for maior ou se os dois primeiros forem iguais e o terceiro for maior e assim por diante. Dessa forma,\n",
    "\n",
    "$$\n",
    "P(X > x) = P(\\{X_1 > x_1\\} \\ \\cup \\ \\{X_1 = x_1, X_2 > x_2\\} \\ \\cup \\ \\{X_1 = x_1, X_2 = x_2, X_3 > x_3\\},\\ ...)\n",
    "$$\n",
    "\n",
    "Como esses eventos são todos disjuntos e como os $X_i$'s são independentes,\n",
    "\n",
    "$$\n",
    "P(X > x) = P(X_1 > x_1) + P(X_1 = x_1)P(X_2 > x_2) + P(X_1 = x_1)P(X_2 = x_2)P(X_3 > x_3) \\ ...\n",
    "$$\n",
    "\n",
    "Agora, temos que $P(X_i = x_i) = 1/2$, já que $X_i \\sim Bern(1/2)$. Além disso, podemos escrever $P(X_i > x_i) = \\dfrac{1-x_i}{2}$, já que, se $x_i = 0$, isso se resume a $P(X_i = 1) = 1/2$, e, se $x_i = 1$, $P(X_i > x_i) = P(X_i > 1) = 0$. Dessa forma,\n",
    "\n",
    "$$\n",
    "P(X > x) = \\dfrac{1-x_1}{2} + \\dfrac{1}{2}\\cdot\\dfrac{1-x_2}{2} + \\dfrac{1}{2}\\cdot\\dfrac{1}{2}\\cdot\\dfrac{1-x_3}{2} \\ ... \\\\\n",
    "$$\n",
    "$$\n",
    "P(X > x) = \\dfrac{1}{2} - \\dfrac{x_1}{2} + \\dfrac{1}{2^2} - \\dfrac{x_2}{2^2} + \\dfrac{1}{2^3} - \\dfrac{x_3}{2^3} \\ ... \\\\\n",
    "$$\n",
    "$$\n",
    "P(X > x) = \\sum_{i = 1}^{\\infty} \\dfrac{1}{2^i} - \\sum_{i = 1}^{\\infty} \\dfrac{x_i}{2^i}\n",
    "$$\n",
    "\n",
    "Pela soma da série geométrica, $\\sum_{i = 1}^{\\infty} \\dfrac{1}{2^i} = 1$, e $\\sum_{i = 1}^{\\infty} \\dfrac{x_i}{2^i} = x$. Desse modo,\n",
    "\n",
    "$$\n",
    "P(X > x) = 1 - x \\Longrightarrow P(X \\leq x) = x\n",
    "$$\n",
    "\n",
    "Essa é justamente a $CDF$ da uniforme padrão. Portanto, $X \\sim Unif(0,1)$."
   ]
  },
  {
   "cell_type": "markdown",
   "metadata": {},
   "source": [
    "## Item b)\n",
    "\n",
    "Primeiramente, vamos ver quantos termos são necessários para representar um número com a precisão máxima permitida pela máquina. Para isso, podemos ver até que parcela é necessária para obter uma representação exata de um número. Para facilitar, usaremos como experimento o $1$. Assim, ao atribuir a todas as VAs $X_i$ o valor $1$, faremos a representação binária do número $1$ e veremos a partir de que termo desse somatório o valor resultante é considerado realmente $1$ pelo computador."
   ]
  },
  {
   "cell_type": "code",
   "execution_count": 1,
   "metadata": {},
   "outputs": [
    {
     "name": "stdout",
     "output_type": "stream",
     "text": [
      "Número necessário de parcelas:  55\n"
     ]
    }
   ],
   "source": [
    "import numpy as np\n",
    "\n",
    "# Inicializando as variáveis\n",
    "n = 0\n",
    "i = 0\n",
    "\n",
    "# Enquanto o valor resultante não for 1...\n",
    "while n != 1:\n",
    "    # Adiciona uma parcela\n",
    "    i += 1\n",
    "    # Calcula o somatório\n",
    "    n = np.sum([1/(2**j) for j in range(1, i)])\n",
    "\n",
    "print(\"Número necessário de parcelas: \", i)"
   ]
  },
  {
   "cell_type": "markdown",
   "metadata": {},
   "source": [
    "Portanto, são necessárias $55$ parcelas para atingir a precisão máxima.\n",
    "\n",
    "Com isso, podemos criar nosso gerador de números uniformemente distribuídos:"
   ]
  },
  {
   "cell_type": "code",
   "execution_count": 2,
   "metadata": {},
   "outputs": [],
   "source": [
    "# Função para gerar n números uniformemente distribuídos entre 0 e 1\n",
    "def gen_uniform_nums(n):\n",
    "    # Array com os fatores 2^(-i)\n",
    "    factors = np.array([2**(-i) for i in range(1, 56)])\n",
    "    # Array com o suporte da Bernoulli\n",
    "    bern = np.array([0, 1])\n",
    "    # Array para armazenar os números gerados\n",
    "    nums = np.zeros((n))\n",
    "\n",
    "    # Para cada número...\n",
    "    for i in range(n):\n",
    "        # Gera um vetor com os resultados das Bernoullis\n",
    "        X_i = np.random.choice(bern, 55, replace = True)\n",
    "        # Calcula o número com o somatório\n",
    "        num = np.sum(factors * X_i)\n",
    "        # Salva no array\n",
    "        nums[i] = num\n",
    "\n",
    "    return nums"
   ]
  },
  {
   "cell_type": "markdown",
   "metadata": {},
   "source": [
    "## Item c)\n",
    "\n",
    "Por fim, vamos testar nossa função e ver se seus números são realmente distribuídos uniformemente."
   ]
  },
  {
   "cell_type": "code",
   "execution_count": 3,
   "metadata": {},
   "outputs": [
    {
     "data": {
      "image/png": "[encoded data removed]",
      "text/plain": [
       "<Figure size 640x480 with 1 Axes>"
      ]
     },
     "metadata": {},
     "output_type": "display_data"
    }
   ],
   "source": [
    "import matplotlib.pyplot as plt\n",
    "\n",
    "# Gerando 1000 amostras\n",
    "nums = gen_uniform_nums(1000)\n",
    "\n",
    "# Plotando em um histograma\n",
    "plt.hist(nums)\n",
    "plt.title(\"Números distribuídos uniformemente\")\n",
    "plt.show()"
   ]
  },
  {
   "cell_type": "markdown",
   "metadata": {},
   "source": [
    "Vemos que nossas amostras se aproximam de uma distribuição uniforme, com uma distribuição constante ao longo do suporte."
   ]
  },
  {
   "cell_type": "markdown",
   "metadata": {},
   "source": [
    "# Exercício 4\n",
    "\n",
    "## Item a)\n",
    "\n",
    "Primeiramente, precisamos encontrar a inversa da $CDF$ $F$  da $Expo(1)$.\n",
    "\n",
    "$$\n",
    "y = 1 - e^{-x} \\\\\n",
    "$$\n",
    "$$\n",
    "e^{-x} = 1-y \\\\\n",
    "$$\n",
    "$$\n",
    "ln(e^{-x}) = ln(1-y) \\\\\n",
    "$$\n",
    "$$\n",
    "-x = ln(1-y) \\\\\n",
    "$$\n",
    "$$\n",
    "x = -ln(1-y)\n",
    "$$\n",
    "\n",
    "Assim, temos que $F^{-1}(y) = -ln(1-y)$. Com isso, já podemos fazer nosso gerador de números distribuídos exponenciamente por meio da transformação quantil."
   ]
  },
  {
   "cell_type": "code",
   "execution_count": 4,
   "metadata": {},
   "outputs": [],
   "source": [
    "# Função para gerar números distribuídos exponencialmente\n",
    "def gen_expo_nums(n):\n",
    "    # Gerando números distribuídos uniformemente\n",
    "    uniform_nums = gen_uniform_nums(n)\n",
    "    # Transformando-os para a distribuição exponencial por meio da função quantil\n",
    "    expo_nums = -np.log(1-uniform_nums)\n",
    "    \n",
    "    return expo_nums"
   ]
  },
  {
   "cell_type": "code",
   "execution_count": 5,
   "metadata": {},
   "outputs": [
    {
     "data": {
      "image/png": "[encoded data removed]",
      "text/plain": [
       "<Figure size 640x480 with 1 Axes>"
      ]
     },
     "metadata": {},
     "output_type": "display_data"
    }
   ],
   "source": [
    "# Gerando 1000 amostras\n",
    "expo_nums = gen_expo_nums(1000)\n",
    "\n",
    "# Plotando um histograma\n",
    "plt.hist(expo_nums, bins = 50)\n",
    "plt.title(\"Números distribuídos exponenciamente\")\n",
    "plt.show()"
   ]
  },
  {
   "cell_type": "markdown",
   "metadata": {},
   "source": [
    "Temos uma distribuição que tende para a exponencial. Perfeito!"
   ]
  },
  {
   "cell_type": "markdown",
   "metadata": {},
   "source": [
    "## Item b)\n",
    "\n",
    "Para usar a transformação de Box-Muller, primeiro precisamos de uma uniforme com suporte $(0, 2\\pi)$. Para nossa sorte, como já temos uma uniforme padrão, basta aplicarmos uma transformação de escala multiplicando-a por $2\\pi$. Assim, sendo $U$ essa nova uniforme e $T$ uma exponencial de parâmetro $1$ (a qual já temos), a transformação de Box-Muller diz que\n",
    "\n",
    "$$\n",
    "X = \\sqrt{2T}\\cdot cos(U) \\sim \\mathcal{N}(0, 1).\n",
    "$$\n",
    "\n",
    "Com isso, já podemos fazer nossa função."
   ]
  },
  {
   "cell_type": "code",
   "execution_count": 6,
   "metadata": {},
   "outputs": [],
   "source": [
    "# Função para gerar números distribuídos normalmente\n",
    "def gen_normal_nums(n):\n",
    "    # Gerando a Unif(0, 2pi)\n",
    "    U = 2*np.pi*gen_uniform_nums(n)\n",
    "    # Gerando a Expo(1)\n",
    "    T = gen_expo_nums(n)\n",
    "\n",
    "    # Calculando os valores da distribuição normal\n",
    "    normal_nums = np.sqrt(2*T) * np.cos(U)\n",
    "\n",
    "    return normal_nums"
   ]
  },
  {
   "cell_type": "code",
   "execution_count": 7,
   "metadata": {},
   "outputs": [
    {
     "data": {
      "image/png": "[encoded data removed]",
      "text/plain": [
       "<Figure size 640x480 with 1 Axes>"
      ]
     },
     "metadata": {},
     "output_type": "display_data"
    }
   ],
   "source": [
    "# Gerando 1000 amostras\n",
    "normal_nums = gen_normal_nums(1000)\n",
    "\n",
    "# Plotando em um histograma\n",
    "plt.hist(normal_nums, bins = 50)\n",
    "plt.title(\"Números distribuídos normalmente\")\n",
    "plt.show()"
   ]
  },
  {
   "cell_type": "markdown",
   "metadata": {},
   "source": [
    "Temos oficialmente uma normal!"
   ]
  }
 ],
 "metadata": {
  "kernelspec": {
   "display_name": "Python 3 (ipykernel)",
   "language": "python",
   "name": "python3"
  },
  "language_info": {
   "codemirror_mode": {
    "name": "ipython",
    "version": 3
   },
   "file_extension": ".py",
   "mimetype": "text/x-python",
   "name": "python",
   "nbconvert_exporter": "python",
   "pygments_lexer": "ipython3",
   "version": "3.10.10"
  }
 },
 "nbformat": 4,
 "nbformat_minor": 4
}
